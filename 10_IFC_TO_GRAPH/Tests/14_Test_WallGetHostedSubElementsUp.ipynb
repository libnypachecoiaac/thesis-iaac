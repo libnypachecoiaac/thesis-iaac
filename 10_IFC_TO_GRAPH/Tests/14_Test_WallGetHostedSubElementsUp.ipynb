{
 "cells": [
  {
   "cell_type": "code",
   "execution_count": 8,
   "metadata": {},
   "outputs": [
    {
     "name": "stdout",
     "output_type": "stream",
     "text": [
      "Window with GUID '1wOE2MwBf03f9R8GpskF2a' found. OID: 56204\n",
      "OpeningElement OID: 287961\n",
      "Hosting Wall OID: 50380, GUID: 0aNC3YsFzEZf8uB9g1nSHR\n"
     ]
    }
   ],
   "source": [
    "import ifcopenshell\n",
    "\n",
    "# Load the IFC file\n",
    "ifc_file = ifcopenshell.open(\"Hus28_test.ifc\")\n",
    "\n",
    "# Specific window GUID to search for\n",
    "window_guid_to_find = '1wOE2MwBf03f9R8GpskF2a'\n",
    "#window_guid_to_find = '3xcRif4sv86voAEI35bpCh'\n",
    "#window_guid_to_find = '1wOE2MwBf03f9R8GpskF2b'\n",
    "#window_guid_to_find = '0aNC3YsFzEZf8uB9g1nSc3'\n",
    "\n",
    "# Initialize a variable to store the window\n",
    "target_window = None\n",
    "\n",
    "# Find the specific window by GUID\n",
    "for window in ifc_file.by_type(\"IfcWindow\"):\n",
    "    if window.GlobalId == window_guid_to_find:\n",
    "        target_window = window\n",
    "        break\n",
    "\n",
    "if target_window:\n",
    "    print(f\"Window with GUID '{window_guid_to_find}' found. OID: {target_window.id()}\")\n",
    "    \n",
    "    # Find the IfcRelFillsElement relationships\n",
    "    target_opening = None\n",
    "    for rel_fills in ifc_file.by_type(\"IfcRelFillsElement\"):\n",
    "        if rel_fills.RelatedBuildingElement == target_window:\n",
    "            target_opening = rel_fills.RelatingOpeningElement\n",
    "            print(f\"OpeningElement OID: {target_opening.id()}\")\n",
    "            break\n",
    "    \n",
    "    if target_opening:\n",
    "        # Find the IfcRelVoidsElement relationships to get the wall\n",
    "        for rel_voids in ifc_file.by_type(\"IfcRelVoidsElement\"):\n",
    "            if rel_voids.RelatedOpeningElement == target_opening:\n",
    "                hosting_wall = rel_voids.RelatingBuildingElement\n",
    "                print(f\"Hosting Wall OID: {hosting_wall.id()}, GUID: {hosting_wall.GlobalId}\")\n",
    "                break\n",
    "else:\n",
    "    print(f\"Window with GUID '{window_guid_to_find}' not found.\")\n"
   ]
  },
  {
   "cell_type": "code",
   "execution_count": 10,
   "metadata": {},
   "outputs": [
    {
     "name": "stdout",
     "output_type": "stream",
     "text": [
      "Storey 'Plan 10' found. OID: 118\n",
      "IfcWindow with GUID '0aNC3YsFzEZf8uB9g1nSdd' is hosted by wall OID: 49410\n",
      "IfcWindow with GUID '0aNC3YsFzEZf8uB9g1nSdc' is hosted by wall OID: 49972\n",
      "IfcDoor with GUID '0aNC3YsFzEZf8uB9g1nSdw' is hosted by wall OID: 35804\n",
      "IfcWindow with GUID '0aNC3YsFzEZf8uB9g1nSdz' is hosted by wall OID: 49639\n",
      "IfcDoor with GUID '0aNC3YsFzEZf8uB9g1nSdy' is hosted by wall OID: 35742\n",
      "IfcWindow with GUID '0aNC3YsFzEZf8uB9g1nSdn' is hosted by wall OID: 49751\n",
      "IfcDoor with GUID '0aNC3YsFzEZf8uB9g1nSds' is hosted by wall OID: 37423\n",
      "IfcWindow with GUID '0aNC3YsFzEZf8uB9g1nScC' is hosted by wall OID: 37978\n",
      "IfcWindow with GUID '0aNC3YsFzEZf8uB9g1nSc3' is hosted by wall OID: 37978\n",
      "IfcDoor with GUID '0aNC3YsFzEZf8uB9g1nSce' is hosted by wall OID: 39201\n",
      "IfcWindow with GUID '0aNC3YsFzEZf8uB9g1nScl' is hosted by wall OID: 50492\n",
      "IfcWindow with GUID '0aNC3YsFzEZf8uB9g1nSck' is hosted by wall OID: 50492\n",
      "IfcWindow with GUID '0aNC3YsFzEZf8uB9g1nScW' is hosted by wall OID: 37978\n",
      "IfcWindow with GUID '0aNC3YsFzEZf8uB9g1nSg$' is hosted by wall OID: 35366\n",
      "IfcWindow with GUID '0aNC3YsFzEZf8uB9g1nSk2' is hosted by wall OID: 49557\n",
      "IfcWindow with GUID '0aNC3YsFzEZf8uB9g1nSHV' is hosted by wall OID: 50492\n",
      "IfcWindow with GUID '1wOE2MwBf03f9R8GpskFCg' is hosted by wall OID: 49833\n",
      "IfcWindow with GUID '1wOE2MwBf03f9R8GpskF2b' is hosted by wall OID: 50380\n",
      "IfcWindow with GUID '1wOE2MwBf03f9R8GpskF2a' is hosted by wall OID: 50380\n",
      "IfcWindow with GUID '1wOE2MwBf03f9R8GpskF6d' is hosted by wall OID: 35366\n",
      "IfcWindow with GUID '1wOE2MwBf03f9R8GpskFuS' is hosted by wall OID: 35284\n",
      "IfcWindow with GUID '2nefYOh757WxJJ69EVH2Qe' is hosted by wall OID: 35366\n",
      "IfcWindow with GUID '2nefYOh757WxJJ69EVH2Qf' is hosted by wall OID: 35366\n",
      "IfcDoor with GUID '3V7W2RscLEExyQLuCnt1oO' is hosted by wall OID: 61635\n",
      "IfcDoor with GUID '3V7W2RscLEExyQLuCnt1oP' is hosted by wall OID: 65056\n",
      "IfcDoor with GUID '3V7W2RscLEExyQLuCnt1oQ' is hosted by wall OID: 159928\n",
      "IfcDoor with GUID '3V7W2RscLEExyQLuCnt1oS' is hosted by wall OID: 61791\n",
      "IfcDoor with GUID '3V7W2RscLEExyQLuCnt1o1' is hosted by wall OID: 61552\n",
      "IfcDoor with GUID '3V4w8SHAjCyBUTFZ8uhZEf' is hosted by wall OID: 98854\n",
      "IfcWindow with GUID '0Mha6o8WD5J8XEZRaJyPS7' is hosted by wall OID: 38487\n",
      "IfcWindow with GUID '0MhF3zuEzBXwC_J$8wDC_o' is hosted by wall OID: 100663\n",
      "IfcWindow with GUID '0MhF3zuEzBXwC_J$8wDCy4' is hosted by wall OID: 100449\n",
      "IfcDoor with GUID '0MhF3zuEzBXwC_J$8wDCXp' is hosted by wall OID: 100564\n",
      "IfcWindow with GUID '0MhF3zuEzBXwC_J$8wDFay' is hosted by wall OID: 104217\n",
      "IfcWindow with GUID '0MhF3zuEzBXwC_J$8wDFaJ' is hosted by wall OID: 104316\n",
      "IfcDoor with GUID '1$UkFGv$93m9yvMFzTqDGj' is hosted by wall OID: 38569\n",
      "IfcWindow with GUID '0SeBC9TD5BjBbdFFaCJVNd' is hosted by wall OID: 35366\n",
      "IfcDoor with GUID '2_G3CYmpjD1R88WI3Xz4rg' is hosted by wall OID: 156133\n",
      "IfcDoor with GUID '2_G3CYmpjD1R88WI3Xz4rh' is hosted by wall OID: 156216\n",
      "IfcDoor with GUID '2_G3CYmpjD1R88WI3Xz4qO' is hosted by wall OID: 158635\n",
      "IfcDoor with GUID '3F20D9LUzBFPiJKN4mpzvV' is hosted by wall OID: 187525\n",
      "IfcWindow with GUID '3F20D9LUzBFPiJKN4mpz_F' is hosted by wall OID: 36757\n",
      "IfcWindow with GUID '3F20D9LUzBFPiJKN4mpzZA' is hosted by wall OID: 36757\n",
      "IfcWindow with GUID '1IptmXmR50xuFFZv0u4XIx' is hosted by wall OID: 50380\n",
      "IfcWindow with GUID '1IptmXmR50xuFFZv0u4XJp' is hosted by wall OID: 49833\n",
      "IfcDoor with GUID '2lVIe9Be1FywnC3U3IcDOm' is hosted by wall OID: 187201\n",
      "IfcDoor with GUID '0WAJJ9_TT2nOQ92Aug0Pcs' is hosted by wall OID: 50492\n",
      "Results have been saved to Output_Elements_HostingWalls.csv\n"
     ]
    }
   ],
   "source": [
    "\n"
   ]
  }
 ],
 "metadata": {
  "kernelspec": {
   "display_name": "thesis_env",
   "language": "python",
   "name": "python3"
  },
  "language_info": {
   "codemirror_mode": {
    "name": "ipython",
    "version": 3
   },
   "file_extension": ".py",
   "mimetype": "text/x-python",
   "name": "python",
   "nbconvert_exporter": "python",
   "pygments_lexer": "ipython3",
   "version": "3.8.19"
  }
 },
 "nbformat": 4,
 "nbformat_minor": 2
}
