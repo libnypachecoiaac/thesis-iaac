{
 "cells": [
  {
   "cell_type": "code",
   "execution_count": 1,
   "metadata": {},
   "outputs": [
    {
     "name": "stdout",
     "output_type": "stream",
     "text": [
      "IFC file opened successfully.\n",
      "Graph.ByIFCFile - Warning: Installing required ifcopenshell library.\n",
      "Graph created successfully.\n",
      "Graph.Show - Error: The input graph is not a valid graph. Returning None.\n",
      "Done!\n"
     ]
    },
    {
     "name": "stderr",
     "output_type": "stream",
     "text": [
      "c:\\MiniConda\\envs\\thesis_env\\lib\\site-packages\\topologicpy\\Graph.py:2045: UserWarning: Graph.ByIFCFile - Error: Could not import ifcopenshell. Please try to install ifcopenshell manually. Returning None.\n",
      "  warnings.warn(\"Graph.ByIFCFile - Error: Could not import ifcopenshell. Please try to install ifcopenshell manually. Returning None.\")\n"
     ]
    }
   ],
   "source": [
    "from topologicpy.Graph import Graph\n",
    "import ifcopenshell\n",
    "\n",
    "# Relative path to the IFC file\n",
    "ifc_file_path = 'hus28_test.ifc'\n",
    "\n",
    "# Open the IFC file\n",
    "try:\n",
    "    ifc_file = ifcopenshell.open(ifc_file_path)\n",
    "    print(\"IFC file opened successfully.\")\n",
    "    \n",
    "    # Include only IfcSpace elements in the graph\n",
    "    include_types = ['IfcSpace']\n",
    "    \n",
    "    # Create graph from the IFC file\n",
    "    graph = Graph.ByIFCFile(file=ifc_file, includeTypes=include_types)\n",
    "    print(\"Graph created successfully.\")\n",
    "    \n",
    "    # Show the graph\n",
    "    Graph.Show(graph, vertexColor='blue', vertexSize=6, showVertices=True, edgeColor='black', edgeWidth=1, showEdges=True, renderer='browser', width=950, height=500)\n",
    "\n",
    "except Exception as e:\n",
    "    print(f\"An error occurred: {e}\")\n",
    "\n",
    "print(\"Done!\")"
   ]
  }
 ],
 "metadata": {
  "kernelspec": {
   "display_name": "thesis_env",
   "language": "python",
   "name": "python3"
  },
  "language_info": {
   "codemirror_mode": {
    "name": "ipython",
    "version": 3
   },
   "file_extension": ".py",
   "mimetype": "text/x-python",
   "name": "python",
   "nbconvert_exporter": "python",
   "pygments_lexer": "ipython3",
   "version": "3.8.19"
  }
 },
 "nbformat": 4,
 "nbformat_minor": 2
}
