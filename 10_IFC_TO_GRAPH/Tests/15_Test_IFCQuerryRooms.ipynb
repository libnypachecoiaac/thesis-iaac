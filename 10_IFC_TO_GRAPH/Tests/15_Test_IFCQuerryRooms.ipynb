{
 "cells": [
  {
   "cell_type": "code",
   "execution_count": 2,
   "metadata": {},
   "outputs": [
    {
     "name": "stdout",
     "output_type": "stream",
     "text": [
      "LongName of the wall with GlobalID '3V7W2RscLEExyQLuCnt1o_': KÖK\n"
     ]
    }
   ],
   "source": [
    "import ifcopenshell\n",
    "\n",
    "# Load the IFC file\n",
    "ifc_file = ifcopenshell.open(\"../Hus28_test.ifc\")\n",
    "\n",
    "# Target GlobalID\n",
    "target_global_id = \"3V7W2RscLEExyQLuCnt1o_\"\n",
    "\n",
    "# Find the IFCWall with the target GlobalID\n",
    "wall = ifc_file.by_guid(target_global_id)\n",
    "\n",
    "# Check if the wall was found and if it has a LongName attribute\n",
    "if wall:\n",
    "    long_name = wall.LongName\n",
    "    if long_name:\n",
    "        print(f\"LongName of the wall with GlobalID '{target_global_id}': {long_name}\")\n",
    "    else:\n",
    "        print(f\"The wall with GlobalID '{target_global_id}' does not have a LongName attribute.\")\n",
    "else:\n",
    "    print(f\"No wall with GlobalID '{target_global_id}' found.\")\n"
   ]
  },
  {
   "cell_type": "code",
   "execution_count": null,
   "metadata": {},
   "outputs": [],
   "source": [
    "import ifcopenshell\n",
    "\n",
    "# Load the IFC file\n",
    "ifc_file = ifcopenshell.open(\"Hus28_test.ifc\")\n",
    "\n",
    "# Target GlobalID\n",
    "target_global_id = \"3V7W2RscLEExyQLuCnt1o_\"\n",
    "\n",
    "# Find the element with the target GlobalID\n",
    "element = ifc_file.by_guid(target_global_id)\n",
    "\n",
    "# Initialize variables to store the quantities\n",
    "height = None\n",
    "gross_floor_area = None\n",
    "gross_volume = None\n",
    "\n",
    "# Check if the element was found\n",
    "if element:\n",
    "    # Loop through the element's property sets\n",
    "    for definition in element.IsDefinedBy:\n",
    "        # Check if it's a Quantity Set\n",
    "        if hasattr(definition.RelatingPropertyDefinition, \"Quantities\"):\n",
    "            quantities = definition.RelatingPropertyDefinition.Quantities\n",
    "            \n",
    "            # Loop through quantities to find specific ones\n",
    "            for quantity in quantities:\n",
    "                if quantity.Name == \"Height\":\n",
    "                    height = quantity.LengthValue\n",
    "                elif quantity.Name == \"GrossFloorArea\":\n",
    "                    gross_floor_area = quantity.AreaValue\n",
    "                elif quantity.Name == \"GrossVolume\":\n",
    "                    gross_volume = quantity.VolumeValue\n",
    "\n",
    "# Output the results\n",
    "print(f\"Height: {height}\")\n",
    "print(f\"GrossFloorArea: {gross_floor_area}\")\n",
    "print(f\"GrossVolume: {gross_volume}\")\n"
   ]
  }
 ],
 "metadata": {
  "kernelspec": {
   "display_name": "thesis_env",
   "language": "python",
   "name": "python3"
  },
  "language_info": {
   "codemirror_mode": {
    "name": "ipython",
    "version": 3
   },
   "file_extension": ".py",
   "mimetype": "text/x-python",
   "name": "python",
   "nbconvert_exporter": "python",
   "pygments_lexer": "ipython3",
   "version": "3.8.19"
  }
 },
 "nbformat": 4,
 "nbformat_minor": 2
}
