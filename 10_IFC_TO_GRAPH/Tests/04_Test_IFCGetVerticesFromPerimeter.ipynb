{
 "cells": [
  {
   "cell_type": "code",
   "execution_count": 5,
   "metadata": {},
   "outputs": [
    {
     "name": "stdout",
     "output_type": "stream",
     "text": [
      "IFC file opened successfully.\n",
      "Searching for IfcSpace with Name = '926'...\n",
      "Found target IfcSpace.\n",
      "Extracting outline coordinates for IfcSpace with Name = 926...\n",
      "Outline coordinates (x, y):\n",
      "(-1584.5833333332303, 1017.4999999994851)\n",
      "(-1584.5833333332348, 366.9999999994684)\n",
      "(-2127.0833333336054, 366.9999999994722)\n",
      "(-2127.083333333626, -2622.999999999935)\n",
      "(1545.4166666667606, -2622.999999999952)\n",
      "(1545.4166666667606, -2616.499999999511)\n",
      "(1545.4166666667843, 784.4999999994818)\n",
      "(1545.4166666667859, 1017.5000000005896)\n",
      "(945.4166666667144, 1017.5000000005938)\n",
      "(945.4166666667152, 1137.0000000004627)\n",
      "(-314.5833333336048, 1137.0000000004627)\n",
      "(-334.58333333323725, 1017.4999999994851)\n",
      "(-1584.5833333332303, 1017.4999999994851)\n"
     ]
    },
    {
     "data": {
      "application/vnd.plotly.v1+json": {
       "config": {
        "plotlyServerURL": "https://plot.ly"
       },
       "data": [
        {
         "hoverinfo": "text",
         "hovertext": "",
         "legendgroup": "1",
         "legendrank": 1,
         "marker": {
          "color": "black",
          "size": 1.1
         },
         "mode": "markers",
         "name": "Topology Vertices",
         "showlegend": false,
         "text": "",
         "type": "scatter3d",
         "x": [
          -1584.583333,
          -1584.583333,
          -2127.083333,
          -2127.083333,
          1545.416667,
          1545.416667,
          1545.416667,
          1545.416667,
          945.416667,
          945.416667,
          -314.583333,
          -334.583333
         ],
         "y": [
          1017.5,
          367,
          367,
          -2623,
          -2623,
          -2616.5,
          784.5,
          1017.5,
          1017.5,
          1137,
          1137,
          1017.5
         ],
         "z": [
          0,
          0,
          0,
          0,
          0,
          0,
          0,
          0,
          0,
          0,
          0,
          0
         ]
        },
        {
         "hoverinfo": "text",
         "legendgroup": "2",
         "legendrank": 2,
         "line": {
          "color": "black",
          "width": 1
         },
         "marker": {
          "size": 0
         },
         "mode": "lines",
         "name": "Topology Edges",
         "showlegend": false,
         "text": "",
         "type": "scatter3d",
         "x": [
          -1584.583333,
          -1584.583333,
          null,
          -1584.583333,
          -2127.083333,
          null,
          -2127.083333,
          -2127.083333,
          null,
          -2127.083333,
          1545.416667,
          null,
          1545.416667,
          1545.416667,
          null,
          1545.416667,
          1545.416667,
          null,
          1545.416667,
          1545.416667,
          null,
          1545.416667,
          945.416667,
          null,
          945.416667,
          945.416667,
          null,
          945.416667,
          -314.583333,
          null,
          -314.583333,
          -334.583333,
          null,
          -334.583333,
          -1584.583333,
          null
         ],
         "y": [
          1017.5,
          367,
          null,
          367,
          367,
          null,
          367,
          -2623,
          null,
          -2623,
          -2623,
          null,
          -2623,
          -2616.5,
          null,
          -2616.5,
          784.5,
          null,
          784.5,
          1017.5,
          null,
          1017.5,
          1017.5,
          null,
          1017.5,
          1137,
          null,
          1137,
          1137,
          null,
          1137,
          1017.5,
          null,
          1017.5,
          1017.5,
          null
         ],
         "z": [
          0,
          0,
          null,
          0,
          0,
          null,
          0,
          0,
          null,
          0,
          0,
          null,
          0,
          0,
          null,
          0,
          0,
          null,
          0,
          0,
          null,
          0,
          0,
          null,
          0,
          0,
          null,
          0,
          0,
          null,
          0,
          0,
          null,
          0,
          0,
          null
         ]
        },
        {
         "cmax": 1,
         "cmin": 0,
         "color": "#FAFAFA",
         "colorscale": [
          [
           0,
           "#440154"
          ],
          [
           0.1111111111111111,
           "#482878"
          ],
          [
           0.2222222222222222,
           "#3e4989"
          ],
          [
           0.3333333333333333,
           "#31688e"
          ],
          [
           0.4444444444444444,
           "#26828e"
          ],
          [
           0.5555555555555556,
           "#1f9e89"
          ],
          [
           0.6666666666666666,
           "#35b779"
          ],
          [
           0.7777777777777778,
           "#6ece58"
          ],
          [
           0.8888888888888888,
           "#b5de2b"
          ],
          [
           1,
           "#fde725"
          ]
         ],
         "flatshading": true,
         "hoverinfo": "text",
         "hovertext": "",
         "i": [
          0,
          3,
          3,
          5,
          5,
          7,
          7,
          9,
          10,
          11
         ],
         "j": [
          1,
          2,
          0,
          6,
          0,
          8,
          5,
          8,
          7,
          7
         ],
         "k": [
          2,
          4,
          2,
          0,
          3,
          5,
          3,
          7,
          3,
          10
         ],
         "legendgroup": "3",
         "legendrank": 3,
         "lighting": {
          "facenormalsepsilon": 0
         },
         "name": "Topology Faces",
         "opacity": 0.5,
         "showlegend": false,
         "showscale": false,
         "text": "",
         "type": "mesh3d",
         "x": [
          -1584.583333,
          -2127.083333,
          -2127.083333,
          1545.416667,
          1545.416667,
          -334.583333,
          -1584.583333,
          945.416667,
          -314.583333,
          945.416667,
          1545.416667,
          1545.416667
         ],
         "y": [
          367,
          367,
          -2623,
          -2616.5,
          -2623,
          1017.5,
          1017.5,
          1017.5,
          1137,
          1137,
          784.5,
          1017.5
         ],
         "z": [
          0,
          0,
          0,
          0,
          0,
          0,
          0,
          0,
          0,
          0,
          0,
          0
         ]
        }
       ],
       "layout": {
        "height": 500,
        "margin": {
         "b": 0,
         "l": 0,
         "r": 0,
         "t": 20
        },
        "paper_bgcolor": "rgba(0,0,0,0)",
        "plot_bgcolor": "rgba(0,0,0,0)",
        "scene": {
         "aspectmode": "data",
         "camera": {
          "center": {
           "x": 0,
           "y": 0,
           "z": 0
          },
          "eye": {
           "x": -1.25,
           "y": -1.25,
           "z": 1.25
          },
          "projection": {
           "type": "perspective"
          },
          "up": {
           "x": 0,
           "y": 0,
           "z": 1
          }
         },
         "xaxis": {
          "visible": false
         },
         "yaxis": {
          "visible": false
         },
         "zaxis": {
          "visible": false
         }
        },
        "showlegend": true,
        "template": {
         "data": {
          "bar": [
           {
            "error_x": {
             "color": "#2a3f5f"
            },
            "error_y": {
             "color": "#2a3f5f"
            },
            "marker": {
             "line": {
              "color": "#E5ECF6",
              "width": 0.5
             },
             "pattern": {
              "fillmode": "overlay",
              "size": 10,
              "solidity": 0.2
             }
            },
            "type": "bar"
           }
          ],
          "barpolar": [
           {
            "marker": {
             "line": {
              "color": "#E5ECF6",
              "width": 0.5
             },
             "pattern": {
              "fillmode": "overlay",
              "size": 10,
              "solidity": 0.2
             }
            },
            "type": "barpolar"
           }
          ],
          "carpet": [
           {
            "aaxis": {
             "endlinecolor": "#2a3f5f",
             "gridcolor": "white",
             "linecolor": "white",
             "minorgridcolor": "white",
             "startlinecolor": "#2a3f5f"
            },
            "baxis": {
             "endlinecolor": "#2a3f5f",
             "gridcolor": "white",
             "linecolor": "white",
             "minorgridcolor": "white",
             "startlinecolor": "#2a3f5f"
            },
            "type": "carpet"
           }
          ],
          "choropleth": [
           {
            "colorbar": {
             "outlinewidth": 0,
             "ticks": ""
            },
            "type": "choropleth"
           }
          ],
          "contour": [
           {
            "colorbar": {
             "outlinewidth": 0,
             "ticks": ""
            },
            "colorscale": [
             [
              0,
              "#0d0887"
             ],
             [
              0.1111111111111111,
              "#46039f"
             ],
             [
              0.2222222222222222,
              "#7201a8"
             ],
             [
              0.3333333333333333,
              "#9c179e"
             ],
             [
              0.4444444444444444,
              "#bd3786"
             ],
             [
              0.5555555555555556,
              "#d8576b"
             ],
             [
              0.6666666666666666,
              "#ed7953"
             ],
             [
              0.7777777777777778,
              "#fb9f3a"
             ],
             [
              0.8888888888888888,
              "#fdca26"
             ],
             [
              1,
              "#f0f921"
             ]
            ],
            "type": "contour"
           }
          ],
          "contourcarpet": [
           {
            "colorbar": {
             "outlinewidth": 0,
             "ticks": ""
            },
            "type": "contourcarpet"
           }
          ],
          "heatmap": [
           {
            "colorbar": {
             "outlinewidth": 0,
             "ticks": ""
            },
            "colorscale": [
             [
              0,
              "#0d0887"
             ],
             [
              0.1111111111111111,
              "#46039f"
             ],
             [
              0.2222222222222222,
              "#7201a8"
             ],
             [
              0.3333333333333333,
              "#9c179e"
             ],
             [
              0.4444444444444444,
              "#bd3786"
             ],
             [
              0.5555555555555556,
              "#d8576b"
             ],
             [
              0.6666666666666666,
              "#ed7953"
             ],
             [
              0.7777777777777778,
              "#fb9f3a"
             ],
             [
              0.8888888888888888,
              "#fdca26"
             ],
             [
              1,
              "#f0f921"
             ]
            ],
            "type": "heatmap"
           }
          ],
          "heatmapgl": [
           {
            "colorbar": {
             "outlinewidth": 0,
             "ticks": ""
            },
            "colorscale": [
             [
              0,
              "#0d0887"
             ],
             [
              0.1111111111111111,
              "#46039f"
             ],
             [
              0.2222222222222222,
              "#7201a8"
             ],
             [
              0.3333333333333333,
              "#9c179e"
             ],
             [
              0.4444444444444444,
              "#bd3786"
             ],
             [
              0.5555555555555556,
              "#d8576b"
             ],
             [
              0.6666666666666666,
              "#ed7953"
             ],
             [
              0.7777777777777778,
              "#fb9f3a"
             ],
             [
              0.8888888888888888,
              "#fdca26"
             ],
             [
              1,
              "#f0f921"
             ]
            ],
            "type": "heatmapgl"
           }
          ],
          "histogram": [
           {
            "marker": {
             "pattern": {
              "fillmode": "overlay",
              "size": 10,
              "solidity": 0.2
             }
            },
            "type": "histogram"
           }
          ],
          "histogram2d": [
           {
            "colorbar": {
             "outlinewidth": 0,
             "ticks": ""
            },
            "colorscale": [
             [
              0,
              "#0d0887"
             ],
             [
              0.1111111111111111,
              "#46039f"
             ],
             [
              0.2222222222222222,
              "#7201a8"
             ],
             [
              0.3333333333333333,
              "#9c179e"
             ],
             [
              0.4444444444444444,
              "#bd3786"
             ],
             [
              0.5555555555555556,
              "#d8576b"
             ],
             [
              0.6666666666666666,
              "#ed7953"
             ],
             [
              0.7777777777777778,
              "#fb9f3a"
             ],
             [
              0.8888888888888888,
              "#fdca26"
             ],
             [
              1,
              "#f0f921"
             ]
            ],
            "type": "histogram2d"
           }
          ],
          "histogram2dcontour": [
           {
            "colorbar": {
             "outlinewidth": 0,
             "ticks": ""
            },
            "colorscale": [
             [
              0,
              "#0d0887"
             ],
             [
              0.1111111111111111,
              "#46039f"
             ],
             [
              0.2222222222222222,
              "#7201a8"
             ],
             [
              0.3333333333333333,
              "#9c179e"
             ],
             [
              0.4444444444444444,
              "#bd3786"
             ],
             [
              0.5555555555555556,
              "#d8576b"
             ],
             [
              0.6666666666666666,
              "#ed7953"
             ],
             [
              0.7777777777777778,
              "#fb9f3a"
             ],
             [
              0.8888888888888888,
              "#fdca26"
             ],
             [
              1,
              "#f0f921"
             ]
            ],
            "type": "histogram2dcontour"
           }
          ],
          "mesh3d": [
           {
            "colorbar": {
             "outlinewidth": 0,
             "ticks": ""
            },
            "type": "mesh3d"
           }
          ],
          "parcoords": [
           {
            "line": {
             "colorbar": {
              "outlinewidth": 0,
              "ticks": ""
             }
            },
            "type": "parcoords"
           }
          ],
          "pie": [
           {
            "automargin": true,
            "type": "pie"
           }
          ],
          "scatter": [
           {
            "fillpattern": {
             "fillmode": "overlay",
             "size": 10,
             "solidity": 0.2
            },
            "type": "scatter"
           }
          ],
          "scatter3d": [
           {
            "line": {
             "colorbar": {
              "outlinewidth": 0,
              "ticks": ""
             }
            },
            "marker": {
             "colorbar": {
              "outlinewidth": 0,
              "ticks": ""
             }
            },
            "type": "scatter3d"
           }
          ],
          "scattercarpet": [
           {
            "marker": {
             "colorbar": {
              "outlinewidth": 0,
              "ticks": ""
             }
            },
            "type": "scattercarpet"
           }
          ],
          "scattergeo": [
           {
            "marker": {
             "colorbar": {
              "outlinewidth": 0,
              "ticks": ""
             }
            },
            "type": "scattergeo"
           }
          ],
          "scattergl": [
           {
            "marker": {
             "colorbar": {
              "outlinewidth": 0,
              "ticks": ""
             }
            },
            "type": "scattergl"
           }
          ],
          "scattermapbox": [
           {
            "marker": {
             "colorbar": {
              "outlinewidth": 0,
              "ticks": ""
             }
            },
            "type": "scattermapbox"
           }
          ],
          "scatterpolar": [
           {
            "marker": {
             "colorbar": {
              "outlinewidth": 0,
              "ticks": ""
             }
            },
            "type": "scatterpolar"
           }
          ],
          "scatterpolargl": [
           {
            "marker": {
             "colorbar": {
              "outlinewidth": 0,
              "ticks": ""
             }
            },
            "type": "scatterpolargl"
           }
          ],
          "scatterternary": [
           {
            "marker": {
             "colorbar": {
              "outlinewidth": 0,
              "ticks": ""
             }
            },
            "type": "scatterternary"
           }
          ],
          "surface": [
           {
            "colorbar": {
             "outlinewidth": 0,
             "ticks": ""
            },
            "colorscale": [
             [
              0,
              "#0d0887"
             ],
             [
              0.1111111111111111,
              "#46039f"
             ],
             [
              0.2222222222222222,
              "#7201a8"
             ],
             [
              0.3333333333333333,
              "#9c179e"
             ],
             [
              0.4444444444444444,
              "#bd3786"
             ],
             [
              0.5555555555555556,
              "#d8576b"
             ],
             [
              0.6666666666666666,
              "#ed7953"
             ],
             [
              0.7777777777777778,
              "#fb9f3a"
             ],
             [
              0.8888888888888888,
              "#fdca26"
             ],
             [
              1,
              "#f0f921"
             ]
            ],
            "type": "surface"
           }
          ],
          "table": [
           {
            "cells": {
             "fill": {
              "color": "#EBF0F8"
             },
             "line": {
              "color": "white"
             }
            },
            "header": {
             "fill": {
              "color": "#C8D4E3"
             },
             "line": {
              "color": "white"
             }
            },
            "type": "table"
           }
          ]
         },
         "layout": {
          "annotationdefaults": {
           "arrowcolor": "#2a3f5f",
           "arrowhead": 0,
           "arrowwidth": 1
          },
          "autotypenumbers": "strict",
          "coloraxis": {
           "colorbar": {
            "outlinewidth": 0,
            "ticks": ""
           }
          },
          "colorscale": {
           "diverging": [
            [
             0,
             "#8e0152"
            ],
            [
             0.1,
             "#c51b7d"
            ],
            [
             0.2,
             "#de77ae"
            ],
            [
             0.3,
             "#f1b6da"
            ],
            [
             0.4,
             "#fde0ef"
            ],
            [
             0.5,
             "#f7f7f7"
            ],
            [
             0.6,
             "#e6f5d0"
            ],
            [
             0.7,
             "#b8e186"
            ],
            [
             0.8,
             "#7fbc41"
            ],
            [
             0.9,
             "#4d9221"
            ],
            [
             1,
             "#276419"
            ]
           ],
           "sequential": [
            [
             0,
             "#0d0887"
            ],
            [
             0.1111111111111111,
             "#46039f"
            ],
            [
             0.2222222222222222,
             "#7201a8"
            ],
            [
             0.3333333333333333,
             "#9c179e"
            ],
            [
             0.4444444444444444,
             "#bd3786"
            ],
            [
             0.5555555555555556,
             "#d8576b"
            ],
            [
             0.6666666666666666,
             "#ed7953"
            ],
            [
             0.7777777777777778,
             "#fb9f3a"
            ],
            [
             0.8888888888888888,
             "#fdca26"
            ],
            [
             1,
             "#f0f921"
            ]
           ],
           "sequentialminus": [
            [
             0,
             "#0d0887"
            ],
            [
             0.1111111111111111,
             "#46039f"
            ],
            [
             0.2222222222222222,
             "#7201a8"
            ],
            [
             0.3333333333333333,
             "#9c179e"
            ],
            [
             0.4444444444444444,
             "#bd3786"
            ],
            [
             0.5555555555555556,
             "#d8576b"
            ],
            [
             0.6666666666666666,
             "#ed7953"
            ],
            [
             0.7777777777777778,
             "#fb9f3a"
            ],
            [
             0.8888888888888888,
             "#fdca26"
            ],
            [
             1,
             "#f0f921"
            ]
           ]
          },
          "colorway": [
           "#636efa",
           "#EF553B",
           "#00cc96",
           "#ab63fa",
           "#FFA15A",
           "#19d3f3",
           "#FF6692",
           "#B6E880",
           "#FF97FF",
           "#FECB52"
          ],
          "font": {
           "color": "#2a3f5f"
          },
          "geo": {
           "bgcolor": "white",
           "lakecolor": "white",
           "landcolor": "#E5ECF6",
           "showlakes": true,
           "showland": true,
           "subunitcolor": "white"
          },
          "hoverlabel": {
           "align": "left"
          },
          "hovermode": "closest",
          "mapbox": {
           "style": "light"
          },
          "paper_bgcolor": "white",
          "plot_bgcolor": "#E5ECF6",
          "polar": {
           "angularaxis": {
            "gridcolor": "white",
            "linecolor": "white",
            "ticks": ""
           },
           "bgcolor": "#E5ECF6",
           "radialaxis": {
            "gridcolor": "white",
            "linecolor": "white",
            "ticks": ""
           }
          },
          "scene": {
           "xaxis": {
            "backgroundcolor": "#E5ECF6",
            "gridcolor": "white",
            "gridwidth": 2,
            "linecolor": "white",
            "showbackground": true,
            "ticks": "",
            "zerolinecolor": "white"
           },
           "yaxis": {
            "backgroundcolor": "#E5ECF6",
            "gridcolor": "white",
            "gridwidth": 2,
            "linecolor": "white",
            "showbackground": true,
            "ticks": "",
            "zerolinecolor": "white"
           },
           "zaxis": {
            "backgroundcolor": "#E5ECF6",
            "gridcolor": "white",
            "gridwidth": 2,
            "linecolor": "white",
            "showbackground": true,
            "ticks": "",
            "zerolinecolor": "white"
           }
          },
          "shapedefaults": {
           "line": {
            "color": "#2a3f5f"
           }
          },
          "ternary": {
           "aaxis": {
            "gridcolor": "white",
            "linecolor": "white",
            "ticks": ""
           },
           "baxis": {
            "gridcolor": "white",
            "linecolor": "white",
            "ticks": ""
           },
           "bgcolor": "#E5ECF6",
           "caxis": {
            "gridcolor": "white",
            "linecolor": "white",
            "ticks": ""
           }
          },
          "title": {
           "x": 0.05
          },
          "xaxis": {
           "automargin": true,
           "gridcolor": "white",
           "linecolor": "white",
           "ticks": "",
           "title": {
            "standoff": 15
           },
           "zerolinecolor": "white",
           "zerolinewidth": 2
          },
          "yaxis": {
           "automargin": true,
           "gridcolor": "white",
           "linecolor": "white",
           "ticks": "",
           "title": {
            "standoff": 15
           },
           "zerolinecolor": "white",
           "zerolinewidth": 2
          }
         }
        },
        "width": 950,
        "xaxis": {
         "showgrid": false,
         "visible": false,
         "zeroline": false
        },
        "yaxis": {
         "showgrid": false,
         "visible": false,
         "zeroline": false
        }
       }
      }
     },
     "metadata": {},
     "output_type": "display_data"
    }
   ],
   "source": [
    "import ifcopenshell\n",
    "from topologicpy.Vertex import Vertex\n",
    "from topologicpy.Wire import Wire\n",
    "from topologicpy.Face import Face\n",
    "from topologicpy.Plotly import Plotly\n",
    "\n",
    "# Load the IFC file\n",
    "ifc_file = ifcopenshell.open(\"Hus28_test.ifc\")\n",
    "print(\"IFC file opened successfully.\")\n",
    "\n",
    "# Find the IfcSpace with the name '926'\n",
    "target_space = None\n",
    "print(\"Searching for IfcSpace with Name = '926'...\")\n",
    "for space in ifc_file.by_type(\"IfcSpace\"):\n",
    "    if space.Name == \"926\":\n",
    "        target_space = space\n",
    "        print(\"Found target IfcSpace.\")\n",
    "        break\n",
    "\n",
    "# If the target space is found, navigate to the coordinates\n",
    "if target_space:\n",
    "    print(f\"Extracting outline coordinates for IfcSpace with Name = 926...\")\n",
    "    placement = target_space.ObjectPlacement\n",
    "    representation = target_space.Representation\n",
    "\n",
    "    # Find the IFCCartesianPointList2D through the linked structure\n",
    "    coordinates = []\n",
    "    if representation:\n",
    "        shape = representation.Representations[0]\n",
    "        if shape and shape.Items:\n",
    "            for item in shape.Items:\n",
    "                if item.is_a(\"IfcExtrudedAreaSolid\"):\n",
    "                    profile = item.SweptArea\n",
    "                    if profile and profile.is_a(\"IfcArbitraryClosedProfileDef\"):\n",
    "                        curve = profile.OuterCurve\n",
    "                        if curve and curve.is_a(\"IfcIndexedPolyCurve\"):\n",
    "                            point_list = curve.Points\n",
    "                            if point_list and point_list.is_a(\"IfcCartesianPointList2D\"):\n",
    "                                coordinates = point_list.CoordList\n",
    "                                print(\"Outline coordinates (x, y):\")\n",
    "                                for point in coordinates:\n",
    "                                    print(f\"{point}\")\n",
    "                            else:\n",
    "                                print(\"No IfcCartesianPointList2D found.\")\n",
    "                        else:\n",
    "                            print(\"No IfcIndexedPolyCurve found.\")\n",
    "                    else:\n",
    "                        print(\"No IfcArbitraryClosedProfileDef found.\")\n",
    "                else:\n",
    "                    print(\"No IfcExtrudedAreaSolid found.\")\n",
    "    else:\n",
    "        print(\"No Representation found for the target IfcSpace.\")\n",
    "\n",
    "    # Convert coordinates to Vertex objects\n",
    "    vertices = [Vertex.ByCoordinates(x, y, 0) for x, y in coordinates]\n",
    "\n",
    "    # Create a Wire from the vertices\n",
    "    wire = Wire.ByVertices(vertices, close=True)\n",
    "\n",
    "    # Create a Face from the Wire\n",
    "    face = Face.ByWire(wire)\n",
    "\n",
    "    # Visualize using Plotly\n",
    "    data = Plotly.DataByTopology(face)\n",
    "    figure = Plotly.FigureByData(data)\n",
    "    Plotly.Show(figure)\n",
    "\n",
    "else:\n",
    "    print(\"No IfcSpace with Name = 926 found.\")\n"
   ]
  }
 ],
 "metadata": {
  "kernelspec": {
   "display_name": "thesis_env",
   "language": "python",
   "name": "python3"
  },
  "language_info": {
   "codemirror_mode": {
    "name": "ipython",
    "version": 3
   },
   "file_extension": ".py",
   "mimetype": "text/x-python",
   "name": "python",
   "nbconvert_exporter": "python",
   "pygments_lexer": "ipython3",
   "version": "3.8.19"
  }
 },
 "nbformat": 4,
 "nbformat_minor": 2
}
