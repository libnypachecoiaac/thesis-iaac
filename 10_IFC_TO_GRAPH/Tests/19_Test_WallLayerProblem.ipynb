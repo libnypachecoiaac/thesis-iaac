{
 "cells": [
  {
   "cell_type": "code",
   "execution_count": 3,
   "metadata": {},
   "outputs": [
    {
     "name": "stdout",
     "output_type": "stream",
     "text": [
      "IFC file opened successfully.\n",
      "Initial wall topologies created successfully.\n",
      "Wall topology with GUID '3iln0jDazAuRap$f6vl5mq' loaded.\n",
      "Cells 2 and 3 are identical.\n"
     ]
    }
   ],
   "source": [
    "import ifcopenshell\n",
    "from topologicpy.Topology import Topology\n",
    "from topologicpy.Cell import Cell\n",
    "from topologicpy.Vertex import Vertex\n",
    "from topologicpy.Dictionary import Dictionary\n",
    "\n",
    "# Path to the IFC file\n",
    "ifc_file_path = '../Test_Walls.ifc'\n",
    "specific_guid = \"3iln0jDazAuRap$f6vl5mq\"\n",
    "\n",
    "# Open the IFC file\n",
    "ifc_file = ifcopenshell.open(ifc_file_path)\n",
    "print(\"IFC file opened successfully.\")\n",
    "\n",
    "# Create topologies for all walls in the IFC model\n",
    "wall_topologies = Topology.ByIFCFile(file=ifc_file, transferDictionaries=True, includeTypes=['IfcWall'])\n",
    "print(\"Initial wall topologies created successfully.\")\n",
    "\n",
    "# Filter the topology for the specific GUID\n",
    "specific_wall_topology = None\n",
    "for topo in wall_topologies:\n",
    "    topo_dict = Topology.Dictionary(topo)\n",
    "    topo_guid = Dictionary.ValueAtKey(topo_dict, \"IFC_guid\")\n",
    "    if topo_guid == specific_guid:\n",
    "        specific_wall_topology = topo\n",
    "        break\n",
    "\n",
    "if specific_wall_topology is None:\n",
    "    print(\"No wall topology found with the specific GUID.\")\n",
    "else:\n",
    "    print(f\"Wall topology with GUID '{specific_guid}' loaded.\")\n",
    "\n",
    "    # Analyze the coordinates of each Cell in the wall and find duplicates\n",
    "    cells = Topology.Cells(specific_wall_topology)\n",
    "    for i, cell_a in enumerate(cells):\n",
    "        coords_a = frozenset((Vertex.X(v), Vertex.Y(v), Vertex.Z(v)) for v in Cell.Vertices(cell_a))\n",
    "        for j, cell_b in enumerate(cells):\n",
    "            if i < j:  # Compare each Cell only with subsequent Cells to avoid double comparisons\n",
    "                coords_b = frozenset((Vertex.X(v), Vertex.Y(v), Vertex.Z(v)) for v in Cell.Vertices(cell_b))\n",
    "                if coords_a == coords_b:\n",
    "                    print(f\"Cells {i + 1} and {j + 1} are identical.\")\n"
   ]
  }
 ],
 "metadata": {
  "kernelspec": {
   "display_name": "thesis_env",
   "language": "python",
   "name": "python3"
  },
  "language_info": {
   "codemirror_mode": {
    "name": "ipython",
    "version": 3
   },
   "file_extension": ".py",
   "mimetype": "text/x-python",
   "name": "python",
   "nbconvert_exporter": "python",
   "pygments_lexer": "ipython3",
   "version": "3.8.19"
  }
 },
 "nbformat": 4,
 "nbformat_minor": 2
}
