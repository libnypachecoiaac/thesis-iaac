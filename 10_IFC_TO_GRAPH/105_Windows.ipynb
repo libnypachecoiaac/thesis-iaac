{
 "cells": [
  {
   "cell_type": "code",
   "execution_count": 13,
   "metadata": {},
   "outputs": [
    {
     "name": "stdout",
     "output_type": "stream",
     "text": [
      "Results have been saved to Output02_RoomsByWindows.csv\n"
     ]
    }
   ],
   "source": [
    "import ifcopenshell\n",
    "import csv\n",
    "\n",
    "def get_storey(element):\n",
    "    # Find the IfcBuildingStorey for the given element\n",
    "    for rel in element.ContainedInStructure:\n",
    "        if rel.is_a(\"IfcRelContainedInSpatialStructure\") and rel.RelatingStructure.is_a(\"IfcBuildingStorey\"):\n",
    "            return rel.RelatingStructure\n",
    "    return None\n",
    "\n",
    "# Load the IFC file\n",
    "ifc_file = ifcopenshell.open(\"Hus28_test.ifc\")\n",
    "\n",
    "# Search for the target storey by name\n",
    "storey_name = \"Plan 10\"\n",
    "target_storey = None\n",
    "\n",
    "for storey in ifc_file.by_type(\"IfcBuildingStorey\"):\n",
    "    if storey.Name == storey_name:\n",
    "        target_storey = storey\n",
    "        break\n",
    "\n",
    "if not target_storey:\n",
    "    print(f\"Storey with name '{storey_name}' was not found.\")\n",
    "else:\n",
    "    # Find all IfcWindow elements\n",
    "    ifc_windows = ifc_file.by_type(\"IfcWindow\")\n",
    "\n",
    "    # Initialize a dictionary to store windows and their connected rooms\n",
    "    window_to_room = {}\n",
    "\n",
    "    # Iterate over all IfcRelSpaceBoundary elements\n",
    "    for rel in ifc_file.by_type(\"IfcRelSpaceBoundary\"):\n",
    "        # Check if the related element is a window\n",
    "        if rel.RelatedBuildingElement in ifc_windows:\n",
    "            window = rel.RelatedBuildingElement\n",
    "            window_oid = window.id()\n",
    "            \n",
    "            # Check if the window is on the target storey\n",
    "            window_storey = get_storey(window)\n",
    "            if window_storey == target_storey:\n",
    "                # Assign the room (IfcSpace) to the window\n",
    "                room = rel.RelatingSpace\n",
    "                if room:\n",
    "                    room_name = room.Name\n",
    "                    if window_oid not in window_to_room:\n",
    "                        window_to_room[window_oid] = {\"rooms\": []}\n",
    "                    window_to_room[window_oid][\"rooms\"].append(room_name)\n",
    "\n",
    "    # Write the results to a CSV file\n",
    "    with open('Output04_RoomsByWindows.csv', 'w', newline='') as csvfile:\n",
    "        csvwriter = csv.writer(csvfile, delimiter=';')\n",
    "        for window_oid, data in window_to_room.items():\n",
    "            row = [window_oid] + data[\"rooms\"]\n",
    "            csvwriter.writerow(row)\n",
    "\n",
    "print(\"Results have been saved to Output02_RoomsByWindows.csv\")\n"
   ]
  }
 ],
 "metadata": {
  "kernelspec": {
   "display_name": "thesis_env",
   "language": "python",
   "name": "python3"
  },
  "language_info": {
   "codemirror_mode": {
    "name": "ipython",
    "version": 3
   },
   "file_extension": ".py",
   "mimetype": "text/x-python",
   "name": "python",
   "nbconvert_exporter": "python",
   "pygments_lexer": "ipython3",
   "version": "3.8.19"
  }
 },
 "nbformat": 4,
 "nbformat_minor": 2
}
