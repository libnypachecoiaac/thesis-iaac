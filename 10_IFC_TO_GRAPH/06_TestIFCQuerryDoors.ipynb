{
 "cells": [
  {
   "cell_type": "code",
   "execution_count": 9,
   "metadata": {},
   "outputs": [
    {
     "name": "stdout",
     "output_type": "stream",
     "text": [
      "Door OID 162808 is connected to rooms with names ['98', '750']\n",
      "Door OID 48200 is connected to rooms with names ['746', '747']\n",
      "Door OID 37273 is connected to rooms with names ['746', '750']\n",
      "Door OID 104755 is connected to rooms with names ['749', '750']\n",
      "Door OID 36670 is connected to rooms with names ['750', '750', '928']\n",
      "Door OID 102383 is connected to rooms with names ['750']\n",
      "Door OID 228712 is connected to rooms with names ['750']\n",
      "Door OID 37845 is connected to rooms with names ['750', '1109']\n",
      "Door OID 68489 is connected to rooms with names ['921', '930']\n",
      "Door OID 68055 is connected to rooms with names ['922', '930']\n",
      "Door OID 80056 is connected to rooms with names ['923', '925']\n",
      "Door OID 68826 is connected to rooms with names ['924', '930']\n",
      "Door OID 69561 is connected to rooms with names ['927', '928']\n",
      "Door OID 68413 is connected to rooms with names ['929', '930']\n",
      "Door OID 156480 is connected to rooms with names ['1104', '1110']\n",
      "Door OID 156890 is connected to rooms with names ['1105', '1110']\n",
      "Door OID 156521 is connected to rooms with names ['1106', '1110']\n",
      "Door OID 203323 is connected to rooms with names ['1109', '1114']\n"
     ]
    }
   ],
   "source": [
    "import ifcopenshell\n",
    "\n",
    "# Load the IFC file\n",
    "ifc_file = ifcopenshell.open(\"Hus28_test.ifc\")\n",
    "\n",
    "# Search for the target storey by name\n",
    "storey_name = \"Plan 10\"\n",
    "target_storey = None\n",
    "\n",
    "for storey in ifc_file.by_type(\"IfcBuildingStorey\"):\n",
    "    if storey.Name == storey_name:\n",
    "        target_storey = storey\n",
    "        break\n",
    "\n",
    "if not target_storey:\n",
    "    print(f\"Storey with name '{storey_name}' was not found.\")\n",
    "else:\n",
    "    # Find all IfcDoor elements\n",
    "    ifc_doors = ifc_file.by_type(\"IfcDoor\")\n",
    "\n",
    "    # Initialize a dictionary to store doors and their connected rooms\n",
    "    door_to_room = {}\n",
    "\n",
    "    # Iterate over all IfcRelSpaceBoundary elements\n",
    "    for rel in ifc_file.by_type(\"IfcRelSpaceBoundary\"):\n",
    "        # Check if the related element is a door\n",
    "        if rel.RelatedBuildingElement in ifc_doors:\n",
    "            door = rel.RelatedBuildingElement\n",
    "            door_oid = door.id()\n",
    "            \n",
    "            # Check if the door is on the target storey\n",
    "            door_storey = door.ContainedInStructure\n",
    "            if door_storey and door_storey[0].RelatingStructure == target_storey:\n",
    "                # Assign the room (IfcSpace) to the door\n",
    "                room = rel.RelatingSpace\n",
    "                if room:\n",
    "                    room_name = room.Name\n",
    "                    if door_oid in door_to_room:\n",
    "                        door_to_room[door_oid].append(room_name)\n",
    "                    else:\n",
    "                        door_to_room[door_oid] = [room_name]\n",
    "\n",
    "    # Output the door to room mappings\n",
    "    for door_oid, room_names in door_to_room.items():\n",
    "        print(f\"Door OID {door_oid} is connected to rooms with names {room_names}\")\n"
   ]
  }
 ],
 "metadata": {
  "kernelspec": {
   "display_name": "thesis_env",
   "language": "python",
   "name": "python3"
  },
  "language_info": {
   "codemirror_mode": {
    "name": "ipython",
    "version": 3
   },
   "file_extension": ".py",
   "mimetype": "text/x-python",
   "name": "python",
   "nbconvert_exporter": "python",
   "pygments_lexer": "ipython3",
   "version": "3.8.19"
  }
 },
 "nbformat": 4,
 "nbformat_minor": 2
}
