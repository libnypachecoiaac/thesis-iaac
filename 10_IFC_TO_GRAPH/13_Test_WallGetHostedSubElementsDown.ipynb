{
 "cells": [
  {
   "cell_type": "code",
   "execution_count": 7,
   "metadata": {},
   "outputs": [
    {
     "name": "stdout",
     "output_type": "stream",
     "text": [
      "Wall with GUID '0aNC3YsFzEZf8uB9g1nSdt' found. OID: 37423\n"
     ]
    }
   ],
   "source": [
    "import ifcopenshell\n",
    "\n",
    "# Load the IFC file\n",
    "ifc_file = ifcopenshell.open(\"Hus28_test.ifc\")\n",
    "\n",
    "# Specific wall GUID to search for\n",
    "wall_guid_to_find = '0aNC3YsFzEZf8uB9g1nSdt'\n",
    "#wall_guid_to_find = '0aNC3YsFzEZf8uB9g1nSer'\n",
    "\n",
    "# Initialize a variable to store the wall\n",
    "target_wall = None\n",
    "\n",
    "# Find the specific wall by GUID\n",
    "for wall in ifc_file.by_type(\"IfcWall\"):\n",
    "    if wall.GlobalId == wall_guid_to_find:\n",
    "        target_wall = wall\n",
    "        break\n",
    "\n",
    "if target_wall:\n",
    "    print(f\"Wall with GUID '{wall_guid_to_find}' found. OID: {target_wall.id()}\")\n",
    "else:\n",
    "    print(f\"Wall with GUID '{wall_guid_to_find}' not found.\")\n"
   ]
  },
  {
   "cell_type": "code",
   "execution_count": 8,
   "metadata": {},
   "outputs": [
    {
     "name": "stdout",
     "output_type": "stream",
     "text": [
      "OpeningElement OID: 287746\n"
     ]
    }
   ],
   "source": [
    "# Check for IfcOpeningElement related to this wall\n",
    "for voids in target_wall.HasOpenings:\n",
    "    if voids.RelatedOpeningElement.is_a(\"IfcOpeningElement\"):\n",
    "        opening = voids.RelatedOpeningElement\n",
    "        print(f\"OpeningElement OID: {opening.id()}\")"
   ]
  },
  {
   "cell_type": "code",
   "execution_count": 9,
   "metadata": {},
   "outputs": [
    {
     "name": "stdout",
     "output_type": "stream",
     "text": [
      "OpeningElement OID: 287746\n",
      "Door OID: 37845, GlobalId: 0aNC3YsFzEZf8uB9g1nSds\n"
     ]
    }
   ],
   "source": [
    "# Assuming the previous code was run and target_wall is defined\n",
    "\n",
    "# Check for IfcOpeningElement related to this wall and find the related windows and doors\n",
    "for voids in target_wall.HasOpenings:\n",
    "    if voids.RelatedOpeningElement.is_a(\"IfcOpeningElement\"):\n",
    "        opening = voids.RelatedOpeningElement\n",
    "        print(f\"OpeningElement OID: {opening.id()}\")\n",
    "\n",
    "        # Find the IfcRelFillsElement relationships\n",
    "        for rel_fills in ifc_file.by_type(\"IfcRelFillsElement\"):\n",
    "            if rel_fills.RelatingOpeningElement == opening:\n",
    "                filling = rel_fills.RelatedBuildingElement\n",
    "                if filling.is_a(\"IfcWindow\"):\n",
    "                    print(f\"Window OID: {filling.id()}, GlobalId: {filling.GlobalId}\")\n",
    "                elif filling.is_a(\"IfcDoor\"):\n",
    "                    print(f\"Door OID: {filling.id()}, GlobalId: {filling.GlobalId}\")\n"
   ]
  }
 ],
 "metadata": {
  "kernelspec": {
   "display_name": "thesis_env",
   "language": "python",
   "name": "python3"
  },
  "language_info": {
   "codemirror_mode": {
    "name": "ipython",
    "version": 3
   },
   "file_extension": ".py",
   "mimetype": "text/x-python",
   "name": "python",
   "nbconvert_exporter": "python",
   "pygments_lexer": "ipython3",
   "version": "3.8.19"
  }
 },
 "nbformat": 4,
 "nbformat_minor": 2
}
