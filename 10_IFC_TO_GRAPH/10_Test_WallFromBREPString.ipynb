{
 "cells": [
  {
   "cell_type": "code",
   "execution_count": 4,
   "metadata": {},
   "outputs": [
    {
     "name": "stdout",
     "output_type": "stream",
     "text": [
      "Gefundene Wand mit GUID 3bmsvJtpP2Lw7375p3CrYk: #98854=IfcWall('3bmsvJtpP2Lw7375p3CrYk',#18,'Basic Wall:IVB11-A, GIPS/K100/2 BRANDGIPS,183 KL VÄGG I LGH:2128440',$,'Basic Wall:IVB11-A, GIPS/K100/2 BRANDGIPS,183 KL VÄGG I LGH',#98849,#98853,'2128440',.NOTDEFINED.)\n"
     ]
    },
    {
     "ename": "TypeError",
     "evalue": "'Triangulation' object is not iterable",
     "output_type": "error",
     "traceback": [
      "\u001b[1;31m---------------------------------------------------------------------------\u001b[0m",
      "\u001b[1;31mTypeError\u001b[0m                                 Traceback (most recent call last)",
      "Cell \u001b[1;32mIn[4], line 29\u001b[0m\n\u001b[0;32m     26\u001b[0m builder\u001b[38;5;241m.\u001b[39mMakeCompound(compound)\n\u001b[0;32m     28\u001b[0m \u001b[38;5;66;03m# Hinzufügen der Triangulation zur Compound-Shape\u001b[39;00m\n\u001b[1;32m---> 29\u001b[0m \u001b[38;5;28;01mfor\u001b[39;00m item \u001b[38;5;129;01min\u001b[39;00m shape\u001b[38;5;241m.\u001b[39mgeometry:\n\u001b[0;32m     30\u001b[0m     builder\u001b[38;5;241m.\u001b[39mAdd(compound, item)\n\u001b[0;32m     32\u001b[0m \u001b[38;5;66;03m# Konvertieren der TopoDS_Compound in BREP\u001b[39;00m\n",
      "\u001b[1;31mTypeError\u001b[0m: 'Triangulation' object is not iterable"
     ]
    }
   ],
   "source": [
    "import ifcopenshell\n",
    "import ifcopenshell.geom\n",
    "from OCP.TopoDS import TopoDS_Compound, TopoDS_Shape\n",
    "from OCP.BRep import BRep_Builder\n",
    "from OCP.BRepTools import BRepTools\n",
    "import io\n",
    "\n",
    "# Laden der IFC-Datei\n",
    "file_path = 'Hus28_test.ifc'\n",
    "ifc_file = ifcopenshell.open(file_path)\n",
    "\n",
    "# Suchen der Wand mit der spezifischen GUID\n",
    "guid = \"3bmsvJtpP2Lw7375p3CrYk\"\n",
    "wall = ifc_file.by_guid(guid)\n",
    "\n",
    "if wall:\n",
    "    print(f\"Gefundene Wand mit GUID {guid}: {wall}\")\n",
    "\n",
    "    # Extrahieren der Geometrie\n",
    "    settings = ifcopenshell.geom.settings()\n",
    "    shape = ifcopenshell.geom.create_shape(settings, wall)\n",
    "\n",
    "    # Überprüfen, ob die Geometrie eine TopoDS_Shape ist\n",
    "    if isinstance(shape.geometry, TopoDS_Shape):\n",
    "        topods_shape = shape.geometry\n",
    "    else:\n",
    "        print(\"Die Geometrie ist keine TopoDS_Shape.\")\n",
    "        exit(1)\n",
    "\n",
    "    # Erstellen einer TopoDS_Compound für die Geometrie\n",
    "    compound = TopoDS_Compound()\n",
    "    builder = BRep_Builder()\n",
    "    builder.MakeCompound(compound)\n",
    "    builder.Add(compound, topods_shape)\n",
    "\n",
    "    # Konvertieren der TopoDS_Compound in BREP\n",
    "    temp_file_path = 'temp_shape.brep'\n",
    "    BRepTools().Write(compound, temp_file_path)\n",
    "\n",
    "    # Lesen der BREP-Daten aus der temporären Datei\n",
    "    with open(temp_file_path, 'r') as file:\n",
    "        brep_data = file.read()\n",
    "\n",
    "    # Ausgabe des BREP-Strings\n",
    "    print(f\"Brep-String der Wand:\\n{brep_data}\")\n",
    "else:\n",
    "    print(f\"Keine Wand mit der GUID {guid} gefunden\")\n"
   ]
  }
 ],
 "metadata": {
  "kernelspec": {
   "display_name": "thesis_env",
   "language": "python",
   "name": "python3"
  },
  "language_info": {
   "codemirror_mode": {
    "name": "ipython",
    "version": 3
   },
   "file_extension": ".py",
   "mimetype": "text/x-python",
   "name": "python",
   "nbconvert_exporter": "python",
   "pygments_lexer": "ipython3",
   "version": "3.8.19"
  }
 },
 "nbformat": 4,
 "nbformat_minor": 2
}
