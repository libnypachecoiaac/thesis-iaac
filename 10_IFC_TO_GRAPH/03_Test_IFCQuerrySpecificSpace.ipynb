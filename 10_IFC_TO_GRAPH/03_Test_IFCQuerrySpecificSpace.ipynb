{
 "cells": [
  {
   "cell_type": "code",
   "execution_count": 9,
   "metadata": {},
   "outputs": [
    {
     "name": "stdout",
     "output_type": "stream",
     "text": [
      "Space Name: 926\n",
      "Long Name: KÖK\n",
      "Composition Type: ELEMENT\n"
     ]
    }
   ],
   "source": [
    "import ifcopenshell\n",
    "\n",
    "# Load the IFC file\n",
    "file_path = \"Hus28_test.ifc\"\n",
    "ifc_file = ifcopenshell.open(file_path)\n",
    "print(\"IFC file opened successfully.\")\n",
    "\n",
    "# Find the IfcSpace with the name '926'\n",
    "space_name = \"926\"\n",
    "target_space = None\n",
    "\n",
    "# Iterate through all IfcSpace elements\n",
    "for space in ifc_file.by_type(\"IfcSpace\"):\n",
    "    if space.Name == space_name:\n",
    "        target_space = space\n",
    "        break\n",
    "\n",
    "if target_space:\n",
    "    print(\"Room found.\")\n",
    "\n",
    "    long_name = target_space.LongName\n",
    "    comp_type = target_space.CompositionType\n",
    "    guid = target_space.CompositionType\n",
    "    \n",
    "    print(f\"Space Name: {space_name}\")\n",
    "    print(f\"Long Name: {long_name}\")\n",
    "    print(f\"Composition Type: {comp_type}\")\n",
    "else:\n",
    "    print(f\"Space with name '{space_name}' not found.\")"
   ]
  }
 ],
 "metadata": {
  "kernelspec": {
   "display_name": "thesis_env",
   "language": "python",
   "name": "python3"
  },
  "language_info": {
   "codemirror_mode": {
    "name": "ipython",
    "version": 3
   },
   "file_extension": ".py",
   "mimetype": "text/x-python",
   "name": "python",
   "nbconvert_exporter": "python",
   "pygments_lexer": "ipython3",
   "version": "3.8.19"
  }
 },
 "nbformat": 4,
 "nbformat_minor": 2
}
