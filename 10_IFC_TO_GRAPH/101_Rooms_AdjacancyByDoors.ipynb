{
 "cells": [
  {
   "cell_type": "code",
   "execution_count": 2,
   "metadata": {},
   "outputs": [
    {
     "name": "stdout",
     "output_type": "stream",
     "text": [
      "Results have been saved to Output02_RoomsByDoors.csv\n"
     ]
    }
   ],
   "source": [
    "import ifcopenshell\n",
    "import csv\n",
    "\n",
    "# Load the IFC file\n",
    "ifc_file = ifcopenshell.open(\"Hus28_test.ifc\")\n",
    "\n",
    "# Search for the target storey by name\n",
    "storey_name = \"Plan 10\"\n",
    "target_storey = None\n",
    "\n",
    "for storey in ifc_file.by_type(\"IfcBuildingStorey\"):\n",
    "    if storey.Name == storey_name:\n",
    "        target_storey = storey\n",
    "        break\n",
    "\n",
    "if not target_storey:\n",
    "    print(f\"Storey with name '{storey_name}' was not found.\")\n",
    "else:\n",
    "    # Find all IfcDoor elements\n",
    "    ifc_doors = ifc_file.by_type(\"IfcDoor\")\n",
    "\n",
    "    # Initialize a dictionary to store doors and their connected rooms\n",
    "    door_to_room = {}\n",
    "\n",
    "    # Iterate over all IfcRelSpaceBoundary elements\n",
    "    for rel in ifc_file.by_type(\"IfcRelSpaceBoundary\"):\n",
    "        # Check if the related element is a door\n",
    "        if rel.RelatedBuildingElement in ifc_doors:\n",
    "            door = rel.RelatedBuildingElement\n",
    "            door_oid = door.id()\n",
    "            \n",
    "            # Check if the door is on the target storey\n",
    "            door_storey = door.ContainedInStructure\n",
    "            if door_storey and door_storey[0].RelatingStructure == target_storey:\n",
    "                # Assign the room (IfcSpace) to the door\n",
    "                room = rel.RelatingSpace\n",
    "                if room:\n",
    "                    room_name = room.Name\n",
    "                    if door_oid in door_to_room:\n",
    "                        door_to_room[door_oid].append(room_name)\n",
    "                    else:\n",
    "                        door_to_room[door_oid] = [room_name]\n",
    "\n",
    "    # Write the results to a CSV file\n",
    "    with open('Output02_RoomsByDoors.csv', 'w', newline='') as csvfile:\n",
    "        csvwriter = csv.writer(csvfile, delimiter=';')\n",
    "        for door_oid, room_names in door_to_room.items():\n",
    "            csvwriter.writerow([door_oid] + room_names)\n",
    "\n",
    "print(\"Results have been saved to Output02_RoomsByDoors.csv\")"
   ]
  }
 ],
 "metadata": {
  "kernelspec": {
   "display_name": "thesis_env",
   "language": "python",
   "name": "python3"
  },
  "language_info": {
   "codemirror_mode": {
    "name": "ipython",
    "version": 3
   },
   "file_extension": ".py",
   "mimetype": "text/x-python",
   "name": "python",
   "nbconvert_exporter": "python",
   "pygments_lexer": "ipython3",
   "version": "3.8.19"
  }
 },
 "nbformat": 4,
 "nbformat_minor": 2
}
